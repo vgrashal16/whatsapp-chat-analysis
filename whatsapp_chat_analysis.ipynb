{
 "cells": [
  {
   "cell_type": "code",
   "execution_count": 15,
   "metadata": {},
   "outputs": [],
   "source": [
    "import re\n",
    "import pandas as pd\n",
    "from urlextract import URLExtract\n",
    "import matplotlib.pyplot as plt\n",
    "from collections import Counter"
   ]
  },
  {
   "cell_type": "code",
   "execution_count": 16,
   "metadata": {},
   "outputs": [],
   "source": [
    "import pandas as pd\n",
    "from urlextract import URLExtract\n",
    "import matplotlib.pyplot as plt"
   ]
  },
  {
   "cell_type": "code",
   "execution_count": 17,
   "metadata": {},
   "outputs": [],
   "source": [
    "file = open(\"WhatsApp Chat with Itachi.txt\", \"r\", encoding=\"utf-8\")\n",
    "data = file.read()\n",
    "# print(data)"
   ]
  },
  {
   "cell_type": "code",
   "execution_count": 18,
   "metadata": {},
   "outputs": [],
   "source": [
    "pattern_re = r\"\\d{1,2}/\\d{1,2}/\\d{2,4},\\s\\d{1,2}:\\d{2}\\s?(?:AM|PM|am|pm)?\\s-\\s\"\n",
    "messages = re.split(pattern_re, data)[1:]"
   ]
  },
  {
   "cell_type": "code",
   "execution_count": 19,
   "metadata": {},
   "outputs": [],
   "source": [
    "dates = re.findall(pattern_re, data)\n",
    "# print(dates)"
   ]
  },
  {
   "cell_type": "code",
   "execution_count": 20,
   "metadata": {},
   "outputs": [],
   "source": [
    "df = pd.DataFrame({'messages':messages, 'dates': dates})\n",
    "df['dates'] = df['dates'].str.replace(\"\\u202f\", \" \", regex=True)  \n",
    "df['dates'] = df['dates'].str.replace(\" - $\", \"\", regex=True)\n",
    "df['dates'] = pd.to_datetime(df['dates'], format='%m/%d/%y, %I:%M %p')\n",
    "\n",
    "# df.head()"
   ]
  },
  {
   "cell_type": "code",
   "execution_count": 21,
   "metadata": {},
   "outputs": [],
   "source": [
    "users = []\n",
    "user_msgs = []\n",
    "for msg in df['messages']:\n",
    "    entry = re.split(r'([\\w\\W]+?):\\s', msg)\n",
    "    if entry[1:]:\n",
    "        users.append(entry[1])\n",
    "        user_msgs.append(entry[2])\n",
    "    else:\n",
    "        users.append(\"chat/group notification\")\n",
    "        user_msgs.append(entry[0])\n",
    "\n",
    "df['users'] = users\n",
    "df['user_messages'] = user_msgs\n",
    "\n",
    "df.drop(columns=['messages'], inplace=True)\n",
    "# df.head()"
   ]
  },
  {
   "cell_type": "code",
   "execution_count": 22,
   "metadata": {},
   "outputs": [],
   "source": [
    "df['year'] = df['dates'].dt.year\n",
    "df['month'] = df['dates'].dt.month_name()\n",
    "df['day'] = df['dates'].dt.day\n",
    "df['hour'] = df['dates'].dt.hour\n",
    "df['minute'] = df['dates'].dt.minute\n",
    "\n",
    "# df.head()"
   ]
  },
  {
   "cell_type": "markdown",
   "metadata": {},
   "source": []
  },
  {
   "cell_type": "code",
   "execution_count": 23,
   "metadata": {},
   "outputs": [],
   "source": [
    "words=[]\n",
    "for messages in df['user_messages']:\n",
    "    words.extend(messages.split())\n",
    "# len(words)"
   ]
  },
  {
   "cell_type": "code",
   "execution_count": 24,
   "metadata": {},
   "outputs": [],
   "source": [
    "media = 0\n",
    "for messages in df['user_messages']:\n",
    "    if messages.split(\"\\n\")[0] == '<Media omitted>':\n",
    "        media += 1\n",
    "# print(media)  #complex o(n)\n",
    "\n",
    "# print(df[df['user_messages'] == '<Media omitted>\\n'].shape[0])  #very efficient"
   ]
  },
  {
   "cell_type": "code",
   "execution_count": 25,
   "metadata": {},
   "outputs": [],
   "source": [
    "links = []\n",
    "extractor = URLExtract()\n",
    "for messages in df['user_messages']:\n",
    "    links.extend(extractor.find_urls(messages))\n"
   ]
  },
  {
   "cell_type": "code",
   "execution_count": 26,
   "metadata": {},
   "outputs": [
    {
     "data": {
      "text/plain": [
       "<BarContainer object of 3 artists>"
      ]
     },
     "execution_count": 26,
     "metadata": {},
     "output_type": "execute_result"
    },
    {
     "data": {
      "image/png": "[encoded data removed]",
      "text/plain": [
       "<Figure size 640x480 with 1 Axes>"
      ]
     },
     "metadata": {},
     "output_type": "display_data"
    }
   ],
   "source": [
    "user_msgs_count = df['users'].value_counts().head(7)\n",
    "# plt.bar(user_msgs_count.index, user_msgs_count.values)\n",
    "# plt.show()\n",
    "# print(user_msgs_count.values)"
   ]
  },
  {
   "cell_type": "code",
   "execution_count": 27,
   "metadata": {},
   "outputs": [],
   "source": [
    "# round((df['users'].value_counts()/df.shape[0]*100),2).reset_index().rename(columns={'index':'users', 'count':'percent'})"
   ]
  },
  {
   "cell_type": "code",
   "execution_count": 28,
   "metadata": {},
   "outputs": [],
   "source": [
    "words_df = df[(df['users'] != 'chat/group notification') & (df['user_messages'] != '<Media omitted>\\n')]\n",
    "file = open(\"hinglish_stopwords.txt\", \"r\", encoding=\"utf-8\")\n",
    "stop_words = file.read()\n",
    "\n",
    "words = []\n",
    "for messages in words_df['user_messages']:\n",
    "    for word in messages.lower().split():\n",
    "        if word not in stop_words:\n",
    "            words.append(word)   \n",
    "\n",
    "# df_words = pd.DataFrame(Counter(words).most_common(20), columns=['words', 'frequency'])"
   ]
  }
 ],
 "metadata": {
  "kernelspec": {
   "display_name": "base",
   "language": "python",
   "name": "python3"
  },
  "language_info": {
   "codemirror_mode": {
    "name": "ipython",
    "version": 3
   },
   "file_extension": ".py",
   "mimetype": "text/x-python",
   "name": "python",
   "nbconvert_exporter": "python",
   "pygments_lexer": "ipython3",
   "version": "3.12.7"
  }
 },
 "nbformat": 4,
 "nbformat_minor": 2
}
